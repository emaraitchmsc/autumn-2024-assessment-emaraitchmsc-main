{
 "cells": [
  {
   "cell_type": "markdown",
   "metadata": {},
   "source": [
    "## Student Id: 24045464"
   ]
  },
  {
   "cell_type": "markdown",
   "metadata": {
    "deletable": false
   },
   "source": [
    "<p style=\"color:red; font-weight:bold; font-size:xx-small\">OVERALL COURSEWORK MARK: ___%</p>"
   ]
  },
  {
   "cell_type": "markdown",
   "metadata": {},
   "source": [
    "# Reflective Document\n",
    "<p style=\"color:red; font-weight:bold; font-size:xx-small\">MARK: __%</p>\n",
    "<p style=\"color:red; font-weight:bold; font-size:xx-small\">FEEDBACK: </p>"
   ]
  },
  {
   "cell_type": "markdown",
   "metadata": {
    "deletable": false
   },
   "source": [
    "# Part 1"
   ]
  },
  {
   "cell_type": "markdown",
   "metadata": {
    "deletable": false
   },
   "source": [
    "### Task 1 - Develop a function to read a single column from a CSV file"
   ]
  },
  {
   "cell_type": "code",
   "execution_count": 16,
   "metadata": {
    "deletable": false
   },
   "outputs": [],
   "source": [
    "# We start by opening the file and cleaning the header then we read a single column and clean its rows.\n",
    "\n",
    "def csvColumnReader(fileName, columnNumber):\n",
    "    columnValues = []\n",
    "\n",
    "    try:\n",
    "        with open(fileName, \"r\") as rawFile:\n",
    "            fileHeader = rawFile.readline().strip().split(',') # header cleaning\n",
    "\n",
    "            if columnNumber < 0 or columnNumber >= len(fileHeader):\n",
    "                raise ValueError(\"Column number out of range\") # relevant exception\n",
    "\n",
    "            columnHeader = fileHeader[columnNumber]\n",
    "\n",
    "            for x in rawFile:\n",
    "                rowValue = x.strip().split(',')\n",
    "                if columnNumber < len(rowValue):  # index error prevention\n",
    "                    columnValues.append(rowValue[columnNumber])\n",
    "\n",
    "        return columnHeader, columnValues\n",
    "    except FileNotFoundError:\n",
    "        raise FileNotFoundError(f\"File '{fileName}' not found.\")\n"
   ]
  },
  {
   "cell_type": "markdown",
   "metadata": {
    "deletable": false
   },
   "source": [
    "<p style=\"color:red; font-weight:bold; font-size:xx-small\">MARK: __%</p>\n",
    "<p style=\"color:red; font-weight:bold; font-size:xx-small\">FEEDBACK: </p>"
   ]
  },
  {
   "cell_type": "markdown",
   "metadata": {
    "deletable": false
   },
   "source": [
    "### Task 2 - Develop a function to read CSV data from a file into memory"
   ]
  },
  {
   "cell_type": "code",
   "execution_count": 17,
   "metadata": {
    "deletable": false
   },
   "outputs": [],
   "source": [
    "def csvReader(fileName):\n",
    "    with open(fileName, \"r\") as rawFile:\n",
    "        fileHeader = rawFile.readline().strip().split(',')\n",
    "        numColumns = len(fileHeader)\n",
    "\n",
    "    dataDict = {}\n",
    "    for x in range(numColumns):\n",
    "        columnName, columnData = csvColumnReader(fileName, x)\n",
    "        dataDict[columnName] = columnData\n",
    "\n",
    "    return dataDict\n"
   ]
  },
  {
   "cell_type": "markdown",
   "metadata": {
    "deletable": false
   },
   "source": [
    "<p style=\"color:red; font-weight:bold; font-size:xx-small\">MARK: __%</p>\n",
    "<p style=\"color:red; font-weight:bold; font-size:xx-small\">FEEDBACK: </p>"
   ]
  },
  {
   "cell_type": "markdown",
   "metadata": {
    "deletable": false
   },
   "source": [
    "### Task 3 - Develop a function to calculate the Pearson Correlation Coefficient for two lists of data"
   ]
  },
  {
   "cell_type": "code",
   "execution_count": 18,
   "metadata": {
    "deletable": false
   },
   "outputs": [],
   "source": [
    "def pearsonCorrelation(x, y):\n",
    "    if len(x) != len(y):\n",
    "        raise ValueError(\"Lists' rows aren't equal.\")\n",
    "\n",
    "    n = len(x)\n",
    "    mean_x = sum(x) / n\n",
    "    mean_y = sum(y) / n\n",
    "\n",
    "    numerator = sum((x[i] - mean_x) * (y[i] - mean_y) for i in range(n))\n",
    "    denominator_x = sum((x[i] - mean_x) ** 2 for i in range(n))\n",
    "    denominator_y = sum((y[i] - mean_y) ** 2 for i in range(n))\n",
    "\n",
    "    # to prevent division by 0\n",
    "    if denominator_x == 0 or denominator_y == 0:\n",
    "        return 0\n",
    "\n",
    "    return numerator / (denominator_x**0.5 * denominator_y**0.5)\n"
   ]
  },
  {
   "cell_type": "markdown",
   "metadata": {
    "deletable": false
   },
   "source": [
    "<p style=\"color:red; font-weight:bold; font-size:xx-small\">MARK: __%</p>\n",
    "<p style=\"color:red; font-weight:bold; font-size:xx-small\">FEEDBACK: </p>"
   ]
  },
  {
   "cell_type": "markdown",
   "metadata": {
    "deletable": false
   },
   "source": [
    "### Task 4 - Develop a function to generate a set of Pearson Correlation Coefficients for a data structure like the one generated in Task 2"
   ]
  },
  {
   "cell_type": "code",
   "execution_count": 19,
   "metadata": {
    "deletable": false
   },
   "outputs": [],
   "source": [
    "def pearsonCorrelationCalculator(dataDict):\n",
    "    correlations = {}\n",
    "    columnNames = list(dataDict.keys())\n",
    "\n",
    "    for i in range(len(columnNames)):\n",
    "        for j in range(i + 1, len(columnNames)):  # to avoid duplicates\n",
    "            col1, col2 = columnNames[i], columnNames[j]\n",
    "            try:\n",
    "                data1 = list(map(float, dataDict[col1]))\n",
    "                data2 = list(map(float, dataDict[col2]))\n",
    "                r = pearsonCorrelation(data1, data2)\n",
    "            except ValueError:  # to handle non-numeric values.\n",
    "                r = None\n",
    "\n",
    "            if col1 not in correlations:\n",
    "                correlations[col1] = {}\n",
    "            correlations[col1][col2] = r\n",
    "\n",
    "    return correlations\n"
   ]
  },
  {
   "cell_type": "markdown",
   "metadata": {
    "deletable": false
   },
   "source": [
    "<p style=\"color:red; font-weight:bold; font-size:xx-small\">MARK: __%</p>\n",
    "<p style=\"color:red; font-weight:bold; font-size:xx-small\">FEEDBACK: </p>"
   ]
  },
  {
   "cell_type": "markdown",
   "metadata": {
    "deletable": false
   },
   "source": [
    "### Task 5 - Develop a function to print a custom table for selected data from a data structure like the one generated in Task 4"
   ]
  },
  {
   "cell_type": "code",
   "execution_count": 20,
   "metadata": {
    "deletable": false
   },
   "outputs": [
    {
     "name": "stdout",
     "output_type": "stream",
     "text": [
      "################################################################################################################################################################################################################################################\n",
      "#                                age                   pop               share_white           share_black          share_hispanic       personal_income       household_income        poverty_rate       unemployment_rate   #\n",
      "################################################################################################################################################################################################################################################\n",
      "#          age                    -                  -0.0267                0.1996               -0.0881               -0.1368                0.0325                0.0712               -0.1150               -0.0892        #\n",
      "#          pop                  0.0000                  -                   0.0755               -0.1562                0.0620                0.2049                0.3052               -0.2913               -0.2178        #\n",
      "#      share_white              0.0000                0.0000                  -                  -0.5450               -0.5774                0.3584                0.3221               -0.4977               -0.3897        #\n",
      "#      share_black              0.0000                0.0000                0.0000                  -                  -0.2624               -0.2825               -0.3467                0.4307                0.4836        #\n",
      "#     share_hispanic            0.0000                0.0000                0.0000                0.0000                  -                  -0.2231               -0.1360                0.2083                0.0147        #\n",
      "#    personal_income            0.0000                0.0000                0.0000                0.0000                0.0000                  -                   0.8320               -0.6959               -0.5049        #\n",
      "#    household_income           0.0000                0.0000                0.0000                0.0000                0.0000                0.0000                  -                  -0.7542               -0.5100        #\n",
      "#      poverty_rate             0.0000                0.0000                0.0000                0.0000                0.0000                0.0000                0.0000                  -                   0.5917        #\n",
      "#   unemployment_rate           0.0000                0.0000                0.0000                0.0000                0.0000                0.0000                0.0000                0.0000                  -           #\n",
      "################################################################################################################################################################################################################################################\n"
     ]
    }
   ],
   "source": [
    "def pearsonCorrelationMatrix(correlations, borderChar=\"#\"):\n",
    "    \n",
    "    columns = list(correlations.keys())\n",
    "\n",
    "    columnWidth = max(len(col) for col in columns) + 4\n",
    "\n",
    "    print(borderChar * ((columnWidth + 3) * (len(columns) + 1))) # top border\n",
    "\n",
    "    header = f\"{borderChar} \" + \" \".join(f\"{col.center(columnWidth)}\" for col in [\" \"] + columns) + f\" {borderChar}\"\n",
    "    print(header)\n",
    "\n",
    "    print(borderChar * ((columnWidth + 3) * (len(columns) + 1))) # middle border\n",
    "\n",
    "    # rows of data\n",
    "    for row in columns:\n",
    "        rowData = f\"{borderChar} {row.center(columnWidth)}\"\n",
    "        for col in columns:\n",
    "            if row == col:\n",
    "                value = \"-\"\n",
    "            else:\n",
    "                value = f\"{correlations[row].get(col, 0):.4f}\"  # for the missing correlations\n",
    "            rowData += f\" {value.center(columnWidth)}\"\n",
    "        rowData += f\" {borderChar}\"\n",
    "        print(rowData)\n",
    "\n",
    "    print(borderChar * ((columnWidth + 3) * (len(columns) + 1))) # bottom border\n",
    "\n",
    "\n",
    "dictPart1 = csvReader(\"part_1.csv\")\n",
    "correlationsPart1 =pearsonCorrelationCalculator(dictPart1)\n",
    "pearsonCorrelationMatrix(correlationsPart1)"
   ]
  },
  {
   "cell_type": "markdown",
   "metadata": {
    "deletable": false
   },
   "source": [
    "<p style=\"color:red; font-weight:bold; font-size:xx-small\">MARK: __%</p>\n",
    "<p style=\"color:red; font-weight:bold; font-size:xx-small\">FEEDBACK: </p>"
   ]
  }
 ],
 "metadata": {
  "kernelspec": {
   "display_name": "base",
   "language": "python",
   "name": "python3"
  },
  "language_info": {
   "codemirror_mode": {
    "name": "ipython",
    "version": 3
   },
   "file_extension": ".py",
   "mimetype": "text/x-python",
   "name": "python",
   "nbconvert_exporter": "python",
   "pygments_lexer": "ipython3",
   "version": "3.12.4"
  }
 },
 "nbformat": 4,
 "nbformat_minor": 4
}
