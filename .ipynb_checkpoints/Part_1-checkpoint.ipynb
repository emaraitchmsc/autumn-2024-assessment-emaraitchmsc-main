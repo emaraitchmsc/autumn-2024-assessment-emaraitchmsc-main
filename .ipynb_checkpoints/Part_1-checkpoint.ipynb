{
 "cells": [
  {
   "cell_type": "markdown",
   "metadata": {},
   "source": [
    "## Student Id: 240"
   ]
  },
  {
   "cell_type": "markdown",
   "metadata": {
    "deletable": false
   },
   "source": [
    "<p style=\"color:red; font-weight:bold; font-size:xx-small\">OVERALL COURSEWORK MARK: ___%</p>"
   ]
  },
  {
   "cell_type": "markdown",
   "metadata": {},
   "source": [
    "# Reflective Document\n",
    "<p style=\"color:red; font-weight:bold; font-size:xx-small\">MARK: __%</p>\n",
    "<p style=\"color:red; font-weight:bold; font-size:xx-small\">FEEDBACK: </p>"
   ]
  },
  {
   "cell_type": "markdown",
   "metadata": {
    "deletable": false
   },
   "source": [
    "# Part 1"
   ]
  },
  {
   "cell_type": "markdown",
   "metadata": {
    "deletable": false
   },
   "source": [
    "### Task 1 - Develop a function to read a single column from a CSV file"
   ]
  },
  {
   "cell_type": "code",
   "execution_count": 1,
   "metadata": {
    "deletable": false
   },
   "outputs": [
    {
     "name": "stdout",
     "output_type": "stream",
     "text": [
      "test\n"
     ]
    }
   ],
   "source": [
    "# replace with your code\n",
    "\n",
    "print (\"test\")"
   ]
  },
  {
   "cell_type": "markdown",
   "metadata": {
    "deletable": false
   },
   "source": [
    "<p style=\"color:red; font-weight:bold; font-size:xx-small\">MARK: __%</p>\n",
    "<p style=\"color:red; font-weight:bold; font-size:xx-small\">FEEDBACK: </p>"
   ]
  },
  {
   "cell_type": "markdown",
   "metadata": {
    "deletable": false
   },
   "source": [
    "### Task 2 - Develop a function to read CSV data from a file into memory"
   ]
  },
  {
   "cell_type": "code",
   "execution_count": 2,
   "metadata": {
    "deletable": false
   },
   "outputs": [
    {
     "name": "stdout",
     "output_type": "stream",
     "text": [
      "4\n"
     ]
    }
   ],
   "source": [
    "# replace with your code\n",
    "print (4)"
   ]
  },
  {
   "cell_type": "markdown",
   "metadata": {
    "deletable": false
   },
   "source": [
    "<p style=\"color:red; font-weight:bold; font-size:xx-small\">MARK: __%</p>\n",
    "<p style=\"color:red; font-weight:bold; font-size:xx-small\">FEEDBACK: </p>"
   ]
  },
  {
   "cell_type": "markdown",
   "metadata": {
    "deletable": false
   },
   "source": [
    "### Task 3 - Develop a function to calculate the Pearson Correlation Coefficient for two lists of data"
   ]
  },
  {
   "cell_type": "code",
   "execution_count": null,
   "metadata": {
    "deletable": false
   },
   "outputs": [],
   "source": [
    "# replace with your code"
   ]
  },
  {
   "cell_type": "markdown",
   "metadata": {
    "deletable": false
   },
   "source": [
    "<p style=\"color:red; font-weight:bold; font-size:xx-small\">MARK: __%</p>\n",
    "<p style=\"color:red; font-weight:bold; font-size:xx-small\">FEEDBACK: </p>"
   ]
  },
  {
   "cell_type": "markdown",
   "metadata": {
    "deletable": false
   },
   "source": [
    "### Task 4 - Develop a function to generate a set of Pearson Correlation Coefficients for a data structure like the one generated in Task 2"
   ]
  },
  {
   "cell_type": "code",
   "execution_count": null,
   "metadata": {
    "deletable": false
   },
   "outputs": [],
   "source": [
    "# replace with your code"
   ]
  },
  {
   "cell_type": "markdown",
   "metadata": {
    "deletable": false
   },
   "source": [
    "<p style=\"color:red; font-weight:bold; font-size:xx-small\">MARK: __%</p>\n",
    "<p style=\"color:red; font-weight:bold; font-size:xx-small\">FEEDBACK: </p>"
   ]
  },
  {
   "cell_type": "markdown",
   "metadata": {
    "deletable": false
   },
   "source": [
    "### Task 5 - Develop a function to print a custom table for selected data from a data structure like the one generated in Task 4"
   ]
  },
  {
   "cell_type": "code",
   "execution_count": null,
   "metadata": {
    "deletable": false
   },
   "outputs": [],
   "source": [
    "# replace with your code"
   ]
  },
  {
   "cell_type": "markdown",
   "metadata": {
    "deletable": false
   },
   "source": [
    "<p style=\"color:red; font-weight:bold; font-size:xx-small\">MARK: __%</p>\n",
    "<p style=\"color:red; font-weight:bold; font-size:xx-small\">FEEDBACK: </p>"
   ]
  }
 ],
 "metadata": {
  "kernelspec": {
   "display_name": "Python 3 (ipykernel)",
   "language": "python",
   "name": "python3"
  },
  "language_info": {
   "codemirror_mode": {
    "name": "ipython",
    "version": 3
   },
   "file_extension": ".py",
   "mimetype": "text/x-python",
   "name": "python",
   "nbconvert_exporter": "python",
   "pygments_lexer": "ipython3",
   "version": "3.9.13"
  }
 },
 "nbformat": 4,
 "nbformat_minor": 4
}
